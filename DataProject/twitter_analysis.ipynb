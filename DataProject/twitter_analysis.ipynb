{
 "cells": [
  {
   "cell_type": "markdown",
   "metadata": {},
   "source": [
    "# US Politics - Twitter analysis\n",
    "\n",
    "This is some code to look at tweets by and related to prominent US political figures. As a starting point we will be looking at:\n",
    "\n",
    "- Donald Trump\n",
    "- Hillary Clinton\n",
    "- Barack Obama\n",
    "\n",
    "We're also looking at the responses of media outlets to these tweets, namely:\n",
    "\n",
    "- BBC World News\n",
    "- Breitbart\n",
    "- CBC News\n",
    "- CBS News\n",
    "- CNN\n",
    "- FOX News\n",
    "- The Guardian\n",
    "- MSNBC\n",
    "- NBC News\n",
    "- Reuters\n",
    "\n"
   ]
  },
  {
   "cell_type": "code",
   "execution_count": 460,
   "metadata": {},
   "outputs": [],
   "source": [
    "from IPython.display import Image\n",
    "from __future__ import division\n",
    "import pandas as pd\n",
    "import numpy as np\n",
    "import matplotlib.pyplot as plt\n",
    "import seaborn as sns\n",
    "import datetime as dt\n",
    "import os\n",
    "from keys import WD\n",
    "from textblob import TextBlob\n",
    "import re\n",
    "import matplotlib.ticker as ticker\n",
    "%matplotlib inline"
   ]
  },
  {
   "cell_type": "markdown",
   "metadata": {},
   "source": [
    "Let's define some functions to read in the json log files."
   ]
  },
  {
   "cell_type": "code",
   "execution_count": 198,
   "metadata": {},
   "outputs": [],
   "source": [
    "def file_date(t):\n",
    "    date_new = t.strftime(\"%Y%m%d\")\n",
    "    return date_new\n",
    "\n",
    "def read_tweets(search_type, name, start, end):\n",
    "    no_days = (end-start).days\n",
    "    dtype_dict= {\"location\":str, \"hastags\":list, \"mentions\":list, \"t\":dt.datetime, \\\n",
    "                 \"screen_name\":str, \"log_time\":dt.datetime, \"id\":int, \"content\":str, \"source\":str, \\\n",
    "                 \"fav_count\":int, \"retweet_count\":int}\n",
    "\n",
    "    count = 0\n",
    "    df_tweets = 0\n",
    "    for i in range(no_days+1):\n",
    "        new_date = file_date(start+dt.timedelta(i))\n",
    "        file_tmp = WD+'/{}-{}-{}.log'.format(search_type, name, new_date)\n",
    "         \n",
    "        try:\n",
    "            df_tmp = pd.read_json(file_tmp, lines=True, orient='records', dtype=dtype_dict)\n",
    "            if count == 0:\n",
    "                df_tweets = df_tmp\n",
    "            else:\n",
    "                df_tweets = pd.concat([df_tweets,df_tmp])\n",
    "            count +=1\n",
    "            \n",
    "        except:\n",
    "            #print 'No tweets on:', start+dt.timedelta(i)\n",
    "            continue\n",
    "        \n",
    "    try:\n",
    "        df_tweets['t'] = pd.to_datetime(df_tweets['t'], format=\"%Y-%m-%d:%H:%M:%S\")\n",
    "        df_tweets = df_tweets.set_index('t')\n",
    "        #display(df_tweets.head(2))\n",
    "        print len(df_tweets), 'tweets collected on', count, 'days for', search_type, name\n",
    "        return df_tweets\n",
    "    except:\n",
    "        print 'No tweets found in time range for', name\n",
    "        return df_tweets\n"
   ]
  },
  {
   "cell_type": "code",
   "execution_count": 468,
   "metadata": {},
   "outputs": [
    {
     "name": "stdout",
     "output_type": "stream",
     "text": [
      "207 tweets collected on 32 days for tweets realDonaldTrump\n",
      "17 tweets collected on 11 days for tweets HillaryClinton\n",
      "1 tweets collected on 1 days for tweets BarackObama\n",
      "436 tweets collected on 7 days for tweets BBCWorld\n",
      "387 tweets collected on 10 days for tweets BreitbartNews\n",
      "484 tweets collected on 8 days for tweets cbcnews\n",
      "849 tweets collected on 6 days for tweets CBSNews\n",
      "814 tweets collected on 5 days for tweets cnn\n",
      "1206 tweets collected on 5 days for tweets foxnews\n",
      "1146 tweets collected on 5 days for tweets guardian\n",
      "467 tweets collected on 9 days for tweets MSNBC\n",
      "746 tweets collected on 6 days for tweets NBCNews\n",
      "1352 tweets collected on 5 days for tweets Reuters\n"
     ]
    }
   ],
   "source": [
    "start_date = dt.date(2018,1,1)\n",
    "end_date = dt.date.today()\n",
    "\n",
    "# Politicians\n",
    "DJT_tweets = read_tweets('tweets', 'realDonaldTrump',start_date, end_date)\n",
    "HRC_tweets = read_tweets('tweets', 'HillaryClinton',start_date, end_date)\n",
    "BHO_tweets = read_tweets('tweets', 'BarackObama',start_date, end_date)\n",
    "\n",
    "# News outlets\n",
    "BBC_tweets = read_tweets('tweets', 'BBCWorld',start_date, end_date)\n",
    "Breitbart_tweets = read_tweets('tweets', 'BreitbartNews',start_date, end_date)\n",
    "CBC_tweets = read_tweets('tweets', 'cbcnews',start_date, end_date)\n",
    "CBS_tweets = read_tweets('tweets', 'CBSNews',start_date, end_date)\n",
    "CNN_tweets = read_tweets('tweets', 'cnn',start_date, end_date)\n",
    "FOX_tweets = read_tweets('tweets', 'foxnews',start_date, end_date)\n",
    "Guardian_tweets = read_tweets('tweets', 'guardian',start_date, end_date)\n",
    "MSNBC_tweets = read_tweets('tweets', 'MSNBC',start_date, end_date)\n",
    "NBC_tweets = read_tweets('tweets', 'NBCNews',start_date, end_date)\n",
    "Reuters_tweets = read_tweets('tweets', 'Reuters',start_date, end_date)\n",
    "\n",
    "# List of News tweets\n",
    "News_tweets = [BBC_tweets, Breitbart_tweets, CBC_tweets, CBS_tweets, CNN_tweets, \\\n",
    "               FOX_tweets, Guardian_tweets, MSNBC_tweets, NBC_tweets, Reuters_tweets]\n",
    "News_names = ['BBC', 'Breitbart', 'CBC', 'CBS', 'CNN', \\\n",
    "               'FOX', 'Guardian', 'MSNBC', 'NBC', 'Reuters']"
   ]
  },
  {
   "cell_type": "markdown",
   "metadata": {},
   "source": [
    "We want to filter some plots by keyword. Let's write a function for that."
   ]
  },
  {
   "cell_type": "code",
   "execution_count": 229,
   "metadata": {},
   "outputs": [],
   "source": [
    "def filter(df,kw):\n",
    "    \n",
    "    df = df[df['content'].str.contains(kw)]\n",
    "\n",
    "    return df"
   ]
  },
  {
   "cell_type": "code",
   "execution_count": 240,
   "metadata": {},
   "outputs": [],
   "source": [
    "BBC_Trump = filter(BBC_tweets,'Trump|POTUS')\n",
    "Breitbart_Trump = filter(Breitbart_tweets,'Trump|POTUS')\n",
    "CBC_Trump = filter(CBC_tweets,'Trump|POTUS')\n",
    "CBS_Trump = filter(CBS_tweets,'Trump|POTUS')\n",
    "CNN_Trump = filter(CNN_tweets,'Trump|POTUS')\n",
    "FOX_Trump = filter(FOX_tweets,'Trump|POTUS')\n",
    "Guardian_Trump = filter(Guardian_tweets,'Trump|POTUS')\n",
    "MSNBC_Trump = filter(MSNBC_tweets,'Trump|POTUS')\n",
    "NBC_Trump = filter(NBC_tweets,'Trump|POTUS')\n",
    "Reuters_Trump = filter(Reuters_tweets,'Trump|POTUS')"
   ]
  },
  {
   "cell_type": "markdown",
   "metadata": {},
   "source": [
    "Let's do some sentiment analysis on this to see if we can detect some bias. We'll use textblob which has a pre-trained sentiment analysis tool. While this may not be the most accurate, we can use it at a starting point. Let's first define some functions to a) remove links etc from tweets and b) find the sentiment of a given tweet."
   ]
  },
  {
   "cell_type": "code",
   "execution_count": 264,
   "metadata": {},
   "outputs": [],
   "source": [
    "def clean_tweet(text):\n",
    "    return ' '.join(re.sub(\"(@[A-Za-z0-9]+)|([^0-9A-Za-z \\t])|(\\w+:\\/\\/\\S+)\", \" \", text).split())\n",
    "\n",
    "def sentiment_analysis(text):\n",
    "\n",
    "    analysis = TextBlob(clean_tweet(text))\n",
    "    # Let's go with the direct polarity values\n",
    "    #return analysis.sentiment.polarity\n",
    "    if analysis.sentiment.polarity > 0:\n",
    "        return 1\n",
    "    elif analysis.sentiment.polarity == 0:\n",
    "        return 0\n",
    "    else:\n",
    "        return -1\n"
   ]
  },
  {
   "cell_type": "code",
   "execution_count": 469,
   "metadata": {},
   "outputs": [
    {
     "name": "stdout",
     "output_type": "stream",
     "text": [
      "44 tweets about Trump collected by BBC\n",
      "Average sentiment for BBC is 0.25\n",
      "33 tweets about Trump collected by Breitbart\n",
      "Average sentiment for Breitbart is -0.09090909090909091\n",
      "19 tweets about Trump collected by CBC\n",
      "Average sentiment for CBC is 0.47368421052631576\n",
      "226 tweets about Trump collected by CBS\n",
      "Average sentiment for CBS is 0.4557522123893805\n",
      "225 tweets about Trump collected by CNN\n",
      "Average sentiment for CNN is 0.26222222222222225\n",
      "443 tweets about Trump collected by FOX\n",
      "Average sentiment for FOX is 0.2528216704288939\n",
      "75 tweets about Trump collected by Guardian\n",
      "Average sentiment for Guardian is 0.32\n",
      "198 tweets about Trump collected by MSNBC\n",
      "Average sentiment for MSNBC is 0.3333333333333333\n",
      "157 tweets about Trump collected by NBC\n",
      "Average sentiment for NBC is 0.4840764331210191\n",
      "194 tweets about Trump collected by Reuters\n",
      "Average sentiment for Reuters is 0.29896907216494845\n",
      "The sentiments from lowest to highest are: ['Breitbart' 'BBC' 'FOX' 'CNN' 'Reuters' 'Guardian' 'MSNBC' 'CBS' 'CBC'\n",
      " 'NBC']\n"
     ]
    }
   ],
   "source": [
    "sentiments_News_Trump = []\n",
    "num_tweets_Trump = []\n",
    "count  = 0\n",
    "for i in range(len(News_tweets)):\n",
    "    filtered = filter(News_tweets[i], 'Trump|POTUS')\n",
    "    if count == 0:\n",
    "        news_trump = filtered\n",
    "    else:\n",
    "        news_trump = pd.concat([news_trump,filtered])\n",
    "    num_tweets_Trump.append(len(filtered))\n",
    "    print len(filtered), 'tweets about Trump collected by', News_names[i]\n",
    "    sentiments = np.array([ sentiment_analysis(tweet) for tweet in filtered['content'] ])\n",
    "    avg_sentiment = np.mean(sentiments)\n",
    "    sentiments_News_Trump.append(avg_sentiment)\n",
    "    print 'Average sentiment for', News_names[i], 'is', avg_sentiment\n",
    "    count+=1\n",
    "\n",
    "sentiments_News_Trump = np.array(sentiments_News_Trump)\n",
    "sorti = np.argsort(sentiments_News_Trump)\n",
    "print 'The sentiments from lowest to highest are:', np.array(News_names)[sorti] "
   ]
  },
  {
   "cell_type": "markdown",
   "metadata": {},
   "source": [
    "Let's plot this as a bar chart."
   ]
  },
  {
   "cell_type": "code",
   "execution_count": 470,
   "metadata": {},
   "outputs": [
    {
     "data": {
      "image/png": "[encoded data removed]",
      "text/plain": [
       "<matplotlib.figure.Figure at 0x7f83d5b6bc90>"
      ]
     },
     "metadata": {},
     "output_type": "display_data"
    }
   ],
   "source": [
    "fig1 = plt.figure(figsize=(9,7))\n",
    "ax1  = fig1.add_axes([0.15,0.15,0.75,0.75])\n",
    "\n",
    "xpos = range(len(News_names))\n",
    "ax1.bar(xpos, sentiments_News_Trump, align='center', alpha=0.5)\n",
    "ax1.set_xticks(xpos)\n",
    "ax1.set_xticklabels(News_names)\n",
    "ax1.set_ylabel('Average Sentiment')\n",
    "ax1.set_title(\"Sentiment analysis of news organisations' Trump tweets\")\n",
    " \n",
    "fig1.savefig('Trump_News_sentiment.pdf')\n",
    "plt.show()"
   ]
  },
  {
   "cell_type": "markdown",
   "metadata": {},
   "source": [
    "We can do the same thing for Hillary Clinton and Barack Obama."
   ]
  },
  {
   "cell_type": "code",
   "execution_count": 471,
   "metadata": {},
   "outputs": [
    {
     "name": "stdout",
     "output_type": "stream",
     "text": [
      "0 tweets about Obama collected by BBC\n",
      "Average sentiment for BBC is nan\n",
      "4 tweets about Obama collected by Breitbart\n",
      "Average sentiment for Breitbart is 0.0\n",
      "0 tweets about Obama collected by CBC\n",
      "Average sentiment for CBC is nan\n",
      "10 tweets about Obama collected by CBS\n",
      "Average sentiment for CBS is 0.5\n",
      "12 tweets about Obama collected by CNN\n",
      "Average sentiment for CNN is -0.16666666666666666\n",
      "23 tweets about Obama collected by FOX\n",
      "Average sentiment for FOX is 0.0\n",
      "0 tweets about Obama collected by Guardian\n",
      "Average sentiment for Guardian is nan\n",
      "0 tweets about Obama collected by MSNBC\n",
      "Average sentiment for MSNBC is nan\n",
      "6 tweets about Obama collected by NBC\n",
      "Average sentiment for NBC is -0.3333333333333333\n",
      "0 tweets about Obama collected by Reuters\n",
      "Average sentiment for Reuters is nan\n",
      "The sentiments from lowest to highest are: ['NBC' 'CNN' 'Breitbart' 'FOX' 'CBS' 'BBC' 'CBC' 'Guardian' 'MSNBC'\n",
      " 'Reuters']\n",
      "2 tweets about Clinton collected by BBC\n",
      "Average sentiment for BBC is 0.0\n",
      "0 tweets about Clinton collected by Breitbart\n",
      "Average sentiment for Breitbart is nan\n",
      "0 tweets about Clinton collected by CBC\n",
      "Average sentiment for CBC is nan\n",
      "13 tweets about Clinton collected by CBS\n",
      "Average sentiment for CBS is 0.38461538461538464\n",
      "14 tweets about Clinton collected by CNN\n",
      "Average sentiment for CNN is 0.5714285714285714\n",
      "38 tweets about Clinton collected by FOX\n",
      "Average sentiment for FOX is 0.13157894736842105\n",
      "1 tweets about Clinton collected by Guardian\n",
      "Average sentiment for Guardian is 1.0\n",
      "8 tweets about Clinton collected by MSNBC\n",
      "Average sentiment for MSNBC is 0.5\n",
      "14 tweets about Clinton collected by NBC\n",
      "Average sentiment for NBC is 0.5714285714285714\n",
      "0 tweets about Clinton collected by Reuters\n",
      "Average sentiment for Reuters is nan\n",
      "The sentiments from lowest to highest are: ['Breitbart' 'BBC' 'FOX' 'CNN' 'Reuters' 'Guardian' 'MSNBC' 'CBS' 'CBC'\n",
      " 'NBC']\n"
     ]
    }
   ],
   "source": [
    "sentiments_News_Obama = []\n",
    "num_tweets_Obama = []\n",
    "for i in range(len(News_tweets)):\n",
    "    filtered = filter(News_tweets[i], 'Obama')\n",
    "    num_tweets_Obama.append(len(filtered))\n",
    "    print len(filtered), 'tweets about Obama collected by', News_names[i]\n",
    "    sentiments = np.array([ sentiment_analysis(tweet) for tweet in filtered['content'] ])\n",
    "    avg_sentiment = np.mean(sentiments)\n",
    "    sentiments_News_Obama.append(avg_sentiment)\n",
    "    print 'Average sentiment for', News_names[i], 'is', avg_sentiment\n",
    "\n",
    "sentiments_News_Obama = np.array(sentiments_News_Obama)\n",
    "sorti = np.argsort(sentiments_News_Obama)\n",
    "print 'The sentiments from lowest to highest are:', np.array(News_names)[sorti] \n",
    "\n",
    "\n",
    "sentiments_News_Clinton = []\n",
    "num_tweets_Clinton = []\n",
    "for i in range(len(News_tweets)):\n",
    "    filtered = filter(News_tweets[i], 'Hillary|Clinton')\n",
    "    num_tweets_Clinton.append(len(filtered))\n",
    "    print len(filtered), 'tweets about Clinton collected by', News_names[i]\n",
    "    sentiments = np.array([ sentiment_analysis(tweet) for tweet in filtered['content'] ])\n",
    "    avg_sentiment = np.mean(sentiments)\n",
    "    sentiments_News_Clinton.append(avg_sentiment)\n",
    "    print 'Average sentiment for', News_names[i], 'is', avg_sentiment\n",
    "\n",
    "sentiments_News_Clinton = np.array(sentiments_News_Clinton)\n",
    "sorti = np.argsort(sentiments_News_Trump)\n",
    "print 'The sentiments from lowest to highest are:', np.array(News_names)[sorti] \n"
   ]
  },
  {
   "cell_type": "code",
   "execution_count": 472,
   "metadata": {},
   "outputs": [
    {
     "data": {
      "image/png": "[encoded data removed]",
      "text/plain": [
       "<matplotlib.figure.Figure at 0x7f845fdd8a50>"
      ]
     },
     "metadata": {},
     "output_type": "display_data"
    }
   ],
   "source": [
    "# plot this\n",
    "\n",
    "\n",
    "fig2 = plt.figure(figsize=(9,7))\n",
    "ax2  = fig2.add_axes([0.15,0.15,0.75,0.75])\n",
    "width=0.2\n",
    "\n",
    "xpos = np.arange(len(News_names))\n",
    "ax2.bar(xpos-width, sentiments_News_Trump, width,  alpha=0.5, label='Trump')\n",
    "ax2.bar(xpos, sentiments_News_Obama, width, alpha=0.5, label='Obama')\n",
    "ax2.bar(xpos+width, sentiments_News_Clinton, width,alpha=0.5, label='Clinton')\n",
    "ax2.set_xticks(xpos)\n",
    "ax2.set_xticklabels(News_names)\n",
    "ax2.set_ylabel('Average Sentiment')\n",
    "ax2.set_title(\"Sentiment analysis of news organisations' Trump tweets\")\n",
    "ax2.legend(loc='upper left')\n",
    " \n",
    "fig2.savefig('Trump_Obama_Clinton_News_sentiment.pdf')\n",
    "plt.show()"
   ]
  },
  {
   "cell_type": "markdown",
   "metadata": {},
   "source": [
    "We can see from the above that this is lacking data currently. We don't have enough tweets available to perform meaningful analysis yet. While we at least have hudreds of tweets about Trump, we only have negligible numbers for both Hillary Clinton and Barack Obama. "
   ]
  },
  {
   "cell_type": "markdown",
   "metadata": {},
   "source": [
    "Now let's look at the timeline of tweets."
   ]
  },
  {
   "cell_type": "code",
   "execution_count": 326,
   "metadata": {},
   "outputs": [
    {
     "data": {
      "image/png": "[encoded data removed]",
      "text/plain": [
       "<matplotlib.figure.Figure at 0x7f840ff5c910>"
      ]
     },
     "metadata": {},
     "output_type": "display_data"
    }
   ],
   "source": [
    "days_dt = DJT_tweets.resample('1D').count()['content'].index\n",
    "counts_dt = DJT_tweets.resample('1D').count()['content'].values\n",
    "days_dt = days_dt.map(lambda t: t.strftime('%Y-%m-%d'))\n",
    "\n",
    "days_news_dt = news_trump.resample('1D').count()['content'].index\n",
    "counts_news_dt = news_trump.resample('1D').count()['content'].values\n",
    "days_news_dt = days_news_dt.map(lambda t: t.strftime('%Y-%m-%d'))\n",
    "\n",
    "fig3 = plt.figure(figsize=(14,5))\n",
    "ax3  = fig3.add_axes([0.15,0.15,0.75,0.75])\n",
    "ax3b = ax3.twinx()\n",
    "\n",
    "#ax3.bar(days_dt,counts_dt, color='b')\n",
    "ax3b.bar(days_news_dt,counts_news_dt, color='r')\n",
    "\n",
    "fig3.autofmt_xdate()\n",
    "#fig2.savefig('Trump_Obama_Clinton_News_sentiment.pdf')"
   ]
  },
  {
   "cell_type": "markdown",
   "metadata": {},
   "source": [
    "Let's find times when Donald Trump tweets about Barack Obama and Hillary Clinton."
   ]
  },
  {
   "cell_type": "code",
   "execution_count": 438,
   "metadata": {},
   "outputs": [],
   "source": [
    "DJT_BO = filter(DJT_tweets, 'Obama')\n",
    "DJT_BO_times = DJT_BO.index\n",
    "DJT_HC = filter(DJT_tweets, 'Hillary')\n",
    "DJT_HC_times = DJT_HC.index"
   ]
  },
  {
   "cell_type": "markdown",
   "metadata": {},
   "source": [
    "Now let's look at a subset of the average users' tweets."
   ]
  },
  {
   "cell_type": "code",
   "execution_count": 331,
   "metadata": {},
   "outputs": [
    {
     "name": "stdout",
     "output_type": "stream",
     "text": [
      "22478 tweets collected on 4 days for search Obama\n",
      "35849 tweets collected on 4 days for search BarackObama\n"
     ]
    }
   ],
   "source": [
    "search_BO = read_tweets('search', 'Obama',start_date, end_date)\n",
    "search_BO2 = read_tweets('search', 'BarackObama',start_date, end_date)\n",
    "search_BO = pd.concat([search_BO,search_BO2])\n"
   ]
  },
  {
   "cell_type": "markdown",
   "metadata": {},
   "source": [
    "Let's quickly do some sentiment analysis on these tweets."
   ]
  },
  {
   "cell_type": "code",
   "execution_count": 333,
   "metadata": {},
   "outputs": [
    {
     "name": "stdout",
     "output_type": "stream",
     "text": [
      "The average sentiment for Obama is: 0.13220292488898794\n"
     ]
    }
   ],
   "source": [
    "sentiments_BO = np.array([ sentiment_analysis(tweet) for tweet in search_BO['content'] ])\n",
    "avg_sentiment_BO = np.mean(sentiments_BO)\n",
    "print 'The average sentiment for Obama is:', avg_sentiment_BO"
   ]
  },
  {
   "cell_type": "markdown",
   "metadata": {},
   "source": [
    "Let's also do the same for Hillary Clinton and Donald Trump."
   ]
  },
  {
   "cell_type": "code",
   "execution_count": 481,
   "metadata": {},
   "outputs": [
    {
     "name": "stdout",
     "output_type": "stream",
     "text": [
      "20370 tweets collected on 4 days for search Hillary\n",
      "39019 tweets collected on 4 days for search HillaryClinton\n",
      "19754 tweets collected on 4 days for search Trump\n",
      "40328 tweets collected on 4 days for search realDonaldTrump\n",
      "The average sentiment for Hillary Clinton is: 0.11135058680900503\n",
      "[ 0  1  0 ...  1 -1  0]\n",
      "The average sentiment for Trump is: 0.1121966645584368\n"
     ]
    }
   ],
   "source": [
    "search_HC = read_tweets('search', 'Hillary',start_date, end_date)\n",
    "search_HC2 = read_tweets('search', 'HillaryClinton',start_date, end_date)\n",
    "search_HC = pd.concat([search_HC,search_HC2])\n",
    "\n",
    "search_DJT = read_tweets('search', 'Trump',start_date, end_date)\n",
    "search_DJT2 = read_tweets('search', 'realDonaldTrump',start_date, end_date)\n",
    "search_DJT = pd.concat([search_DJT,search_DJT2])\n",
    "\n",
    "sentiments_HC = np.array([ sentiment_analysis(tweet) for tweet in search_HC['content'] ])\n",
    "avg_sentiment_HC = np.mean(sentiments_HC)\n",
    "print 'The average sentiment for Hillary Clinton is:', avg_sentiment_HC\n",
    "\n",
    "sentiments_DJT = np.array([ sentiment_analysis(tweet) for tweet in search_DJT['content'] ])\n",
    "avg_sentiment_DJT = np.mean(sentiments_DJT)\n",
    "print 'The average sentiment for Trump is:', avg_sentiment_DJT\n"
   ]
  },
  {
   "cell_type": "code",
   "execution_count": 467,
   "metadata": {},
   "outputs": [
    {
     "data": {
      "image/png": "[encoded data removed]",
      "text/plain": [
       "<matplotlib.figure.Figure at 0x7f83d56a0d10>"
      ]
     },
     "metadata": {},
     "output_type": "display_data"
    },
    {
     "data": {
      "image/png": "[encoded data removed]",
      "text/plain": [
       "<matplotlib.figure.Figure at 0x7f83d5c7ae90>"
      ]
     },
     "metadata": {},
     "output_type": "display_data"
    }
   ],
   "source": [
    "unique, counts = np.unique(sentiments_DJT, return_counts=True)\n",
    "sent_DJT_counts = dict(zip(unique, counts))\n",
    "\n",
    "sent_DJC_list = [sent_DJT_counts[-1], sent_DJT_counts[0],sent_DJT_counts[1]]\n",
    "sent_DJC_list = 100*np.array(sent_DJC_list/sum(sent_DJC_list))\n",
    "\n",
    "fig4 = plt.figure(figsize=(9,7))\n",
    "ax4  = fig4.add_axes([0.15,0.15,0.75,0.75])\n",
    "ax4.pie(sent_DJC_list, labels=['negative', 'neutral', 'positive'])\n",
    "ax4.set_title('Donald Trump sentiment')\n",
    "plt.show()\n",
    "\n",
    "unique, counts = np.unique(sentiments_BO, return_counts=True)\n",
    "sent_BO_counts = dict(zip(unique, counts))\n",
    "\n",
    "sent_BO_list = [sent_BO_counts[-1], sent_BO_counts[0],sent_BO_counts[1]]\n",
    "sent_BO_list = 100*np.array(sent_BO_list/sum(sent_BO_list))\n",
    "\n",
    "fig4a = plt.figure(figsize=(9,7))\n",
    "ax4a  = fig4a.add_axes([0.15,0.15,0.75,0.75])\n",
    "ax4a.pie(sent_DJC_list, labels=['negative', 'neutral', 'positive'])\n",
    "ax4a.set_title('Barack Obama sentiment')\n",
    "plt.show()"
   ]
  },
  {
   "cell_type": "code",
   "execution_count": 422,
   "metadata": {},
   "outputs": [],
   "source": [
    "#times_search_BO = search_BO.resample('2H').count()['content'].index\n",
    "#counts_search_BO = search_BO.resample('2H').count()['content'].values\n",
    "#times_search_BO = times_search_BO.map(lambda t: t.strftime('%Y-%m-%d:%H:%M:%S'))#\n",
    "\n",
    "#DJT_BO_times_2h = DJT_BO.resample('2H').count()['content'].index\n",
    "#DJT_BO_counts_2h = DJT_BO.resample('2H').count()['content'].values\n",
    "\n",
    "#fig4 = plt.figure(figsize=(9,7))\n",
    "#ax4  = fig4.add_axes([0.15,0.15,0.75,0.75])\n",
    "\n",
    "#ax4.plot(times_search_BO, counts_search_BO)\n",
    "#ax4.xaxis.set_major_locator(ticker.MultipleLocator(5))\n",
    "#xlabels = ax4.get_xticklabels() \n",
    "#for label in xlabels: \n",
    "#    label.set_rotation(45) \n",
    "    \n",
    "# Add Trumps tweets\n",
    "#ax4b = ax4.twinx()\n",
    "#ax4b.plot(DJT_BO_times_2h, DJT_BO_counts_2h)\n",
    " \n",
    "#fig2.savefig('Trump_Obama_Clinton_News_sentiment.pdf')\n",
    "#plt.show()"
   ]
  },
  {
   "cell_type": "code",
   "execution_count": 482,
   "metadata": {},
   "outputs": [
    {
     "ename": "AttributeError",
     "evalue": "'DataFrame' object has no attribute 'tweetsAboutObama'",
     "output_type": "error",
     "traceback": [
      "\u001b[0;31m---------------------------------------------------------------------------\u001b[0m",
      "\u001b[0;31mAttributeError\u001b[0m                            Traceback (most recent call last)",
      "\u001b[0;32m<ipython-input-482-a527db5eff04>\u001b[0m in \u001b[0;36m<module>\u001b[0;34m()\u001b[0m\n\u001b[1;32m     28\u001b[0m \u001b[0;34m\u001b[0m\u001b[0m\n\u001b[1;32m     29\u001b[0m \u001b[0max5\u001b[0m\u001b[0;34m.\u001b[0m\u001b[0mplot\u001b[0m\u001b[0;34m(\u001b[0m\u001b[0mcomb\u001b[0m\u001b[0;34m.\u001b[0m\u001b[0mt\u001b[0m\u001b[0;34m.\u001b[0m\u001b[0mvalues\u001b[0m\u001b[0;34m,\u001b[0m \u001b[0mcomb\u001b[0m\u001b[0;34m.\u001b[0m\u001b[0mtweetsAboutTrump\u001b[0m\u001b[0;34m.\u001b[0m\u001b[0mvalues\u001b[0m\u001b[0;34m,\u001b[0m \u001b[0mlabel\u001b[0m\u001b[0;34m=\u001b[0m\u001b[0;34m'Trump'\u001b[0m\u001b[0;34m,\u001b[0m \u001b[0mlw\u001b[0m\u001b[0;34m=\u001b[0m\u001b[0;36m2.0\u001b[0m\u001b[0;34m)\u001b[0m\u001b[0;34m\u001b[0m\u001b[0m\n\u001b[0;32m---> 30\u001b[0;31m \u001b[0max5\u001b[0m\u001b[0;34m.\u001b[0m\u001b[0mplot\u001b[0m\u001b[0;34m(\u001b[0m\u001b[0mcomb\u001b[0m\u001b[0;34m.\u001b[0m\u001b[0mt\u001b[0m\u001b[0;34m.\u001b[0m\u001b[0mvalues\u001b[0m\u001b[0;34m,\u001b[0m \u001b[0mcomb\u001b[0m\u001b[0;34m.\u001b[0m\u001b[0mtweetsAboutObama\u001b[0m\u001b[0;34m.\u001b[0m\u001b[0mvalues\u001b[0m\u001b[0;34m,\u001b[0m \u001b[0mlabel\u001b[0m\u001b[0;34m=\u001b[0m\u001b[0;34m'Obama'\u001b[0m\u001b[0;34m,\u001b[0m \u001b[0mlw\u001b[0m\u001b[0;34m=\u001b[0m\u001b[0;36m2.0\u001b[0m\u001b[0;34m)\u001b[0m\u001b[0;34m\u001b[0m\u001b[0m\n\u001b[0m\u001b[1;32m     31\u001b[0m \u001b[0max5\u001b[0m\u001b[0;34m.\u001b[0m\u001b[0mplot\u001b[0m\u001b[0;34m(\u001b[0m\u001b[0mcomb\u001b[0m\u001b[0;34m.\u001b[0m\u001b[0mt\u001b[0m\u001b[0;34m.\u001b[0m\u001b[0mvalues\u001b[0m\u001b[0;34m,\u001b[0m \u001b[0mcomb\u001b[0m\u001b[0;34m.\u001b[0m\u001b[0mtweetsAboutClinton\u001b[0m\u001b[0;34m.\u001b[0m\u001b[0mvalues\u001b[0m\u001b[0;34m,\u001b[0m \u001b[0mlabel\u001b[0m\u001b[0;34m=\u001b[0m\u001b[0;34m'Clinton'\u001b[0m\u001b[0;34m,\u001b[0m \u001b[0mlw\u001b[0m\u001b[0;34m=\u001b[0m\u001b[0;36m2.0\u001b[0m\u001b[0;34m)\u001b[0m\u001b[0;34m\u001b[0m\u001b[0m\n\u001b[1;32m     32\u001b[0m \u001b[0max5\u001b[0m\u001b[0;34m.\u001b[0m\u001b[0mplot\u001b[0m\u001b[0;34m(\u001b[0m\u001b[0mcomb\u001b[0m\u001b[0;34m.\u001b[0m\u001b[0mt\u001b[0m\u001b[0;34m.\u001b[0m\u001b[0mvalues\u001b[0m\u001b[0;34m,\u001b[0m \u001b[0mcomb\u001b[0m\u001b[0;34m.\u001b[0m\u001b[0mrepliesTrump\u001b[0m\u001b[0;34m.\u001b[0m\u001b[0mvalues\u001b[0m\u001b[0;34m,\u001b[0m \u001b[0mlabel\u001b[0m\u001b[0;34m=\u001b[0m\u001b[0;34m'Replies @realDonaldTrump'\u001b[0m\u001b[0;34m,\u001b[0m \u001b[0mlw\u001b[0m\u001b[0;34m=\u001b[0m\u001b[0;36m2.0\u001b[0m\u001b[0;34m)\u001b[0m\u001b[0;34m\u001b[0m\u001b[0m\n",
      "\u001b[0;32m/home/fred/Dropbox/CODING/DataProject/TwitterProjectVenv/local/lib/python2.7/site-packages/pandas/core/generic.pyc\u001b[0m in \u001b[0;36m__getattr__\u001b[0;34m(self, name)\u001b[0m\n\u001b[1;32m   3612\u001b[0m             \u001b[0;32mif\u001b[0m \u001b[0mname\u001b[0m \u001b[0;32min\u001b[0m \u001b[0mself\u001b[0m\u001b[0;34m.\u001b[0m\u001b[0m_info_axis\u001b[0m\u001b[0;34m:\u001b[0m\u001b[0;34m\u001b[0m\u001b[0m\n\u001b[1;32m   3613\u001b[0m                 \u001b[0;32mreturn\u001b[0m \u001b[0mself\u001b[0m\u001b[0;34m[\u001b[0m\u001b[0mname\u001b[0m\u001b[0;34m]\u001b[0m\u001b[0;34m\u001b[0m\u001b[0m\n\u001b[0;32m-> 3614\u001b[0;31m             \u001b[0;32mreturn\u001b[0m \u001b[0mobject\u001b[0m\u001b[0;34m.\u001b[0m\u001b[0m__getattribute__\u001b[0m\u001b[0;34m(\u001b[0m\u001b[0mself\u001b[0m\u001b[0;34m,\u001b[0m \u001b[0mname\u001b[0m\u001b[0;34m)\u001b[0m\u001b[0;34m\u001b[0m\u001b[0m\n\u001b[0m\u001b[1;32m   3615\u001b[0m \u001b[0;34m\u001b[0m\u001b[0m\n\u001b[1;32m   3616\u001b[0m     \u001b[0;32mdef\u001b[0m \u001b[0m__setattr__\u001b[0m\u001b[0;34m(\u001b[0m\u001b[0mself\u001b[0m\u001b[0;34m,\u001b[0m \u001b[0mname\u001b[0m\u001b[0;34m,\u001b[0m \u001b[0mvalue\u001b[0m\u001b[0;34m)\u001b[0m\u001b[0;34m:\u001b[0m\u001b[0;34m\u001b[0m\u001b[0m\n",
      "\u001b[0;31mAttributeError\u001b[0m: 'DataFrame' object has no attribute 'tweetsAboutObama'"
     ]
    },
    {
     "data": {
      "image/png": "[encoded data removed]",
      "text/plain": [
       "<matplotlib.figure.Figure at 0x7f83fab8b590>"
      ]
     },
     "metadata": {},
     "output_type": "display_data"
    }
   ],
   "source": [
    "# combined data\n",
    "times_search_DJT = search_DJT.resample('1H').count()['content'].index\n",
    "counts_search_DJT = search_DJT.resample('1H').count()['content'].values\n",
    "\n",
    "times_search_BO = search_BO.resample('1H').count()['content'].index\n",
    "counts_search_BO = search_BO.resample('1H').count()['content'].values\n",
    "\n",
    "times_search_HC = search_HC.resample('1H').count()['content'].index\n",
    "counts_search_HC = search_HC.resample('1H').count()['content'].values\n",
    "\n",
    "search_DJT2_copy = search_DJT2\n",
    "\n",
    "comb = pd.DataFrame(counts_search_DJT, index=times_search_DJT).reset_index()\n",
    "DJT_tweets_1H = DJT_tweets.resample('1H').count()['content'].to_frame().reset_index()\n",
    "search_BO_1H = search_BO.resample('1H').count()['content'].to_frame().reset_index()\n",
    "search_HC_1H = search_HC.resample('1H').count()['content'].to_frame().reset_index()\n",
    "search_DJT2_1H = search_DJT2.resample('1H').count()['content'].to_frame().reset_index()\n",
    "comb = comb.merge(DJT_tweets_1H, on=['t'], how='left')\n",
    "comb = comb.merge(search_BO_1H, on=['t'], how='left')\n",
    "comb = comb.merge(search_HC_1H, on=['t'], how='left')\n",
    "comb = comb.merge(search_DJT2_1H, on=['t'], how='left')\n",
    "comb = comb.rename(columns={comb.columns[1]:'tweetsAboutTrump', comb.columns[2]:'tweetsByTrump', \\\n",
    "                            comb.columns[3]:'tweetsAboutObama', comb.columns[4]:'tweetsAboutClinton', \\\n",
    "                            comb.columns[5]:'repliesTrump'})\n",
    "comb['t'] = comb['t'].map(lambda t: t.strftime('%Y-%m-%d:%H:%M:%S'))\n",
    "\n",
    "\n",
    "fig5 = plt.figure(figsize=(9,7))\n",
    "ax5  = fig5.add_axes([0.15,0.15,0.75,0.75])\n",
    "\n",
    "ax5.plot(comb.t.values, comb.tweetsAboutTrump.values, label='Trump', lw=2.0)\n",
    "ax5.plot(comb.t.values, comb.tweetsAboutObama.values, label='Obama', lw=2.0)\n",
    "ax5.plot(comb.t.values, comb.tweetsAboutClinton.values, label='Clinton', lw=2.0)\n",
    "ax5.plot(comb.t.values, comb.repliesTrump.values, label='Replies @realDonaldTrump', lw=2.0)\n",
    "ax5.xaxis.set_major_locator(ticker.MultipleLocator(5))\n",
    "xlabels = ax5.get_xticklabels() \n",
    "for label in xlabels: \n",
    "    label.set_rotation(45) \n",
    "    \n",
    "# Add Trumps tweets\n",
    "ax5b = ax5.twinx()\n",
    "ax5b.plot(comb.t.values, comb.tweetsByTrump.values, c='r', label = 'Tweets by Trump')\n",
    "ax5b.xaxis.set_major_locator(ticker.MultipleLocator(5))\n",
    "xlabels = ax5b.get_xticklabels() \n",
    "for label in xlabels: \n",
    "    label.set_rotation(45) \n",
    "    \n",
    "for tl in ax5b.get_yticklabels():\n",
    "    tl.set_color('r')\n",
    "ax5.legend()\n",
    "ax5.set_ylabel('Number of tweets by users')\n",
    "ax5b.set_ylabel('Number of tweets by Trump', color='r')\n",
    " \n",
    "fig5.savefig('User_Tweets.pdf',bbox_inches='tight')\n",
    "plt.show()\n"
   ]
  },
  {
   "cell_type": "markdown",
   "metadata": {},
   "source": [
    "Let's do the same but only looking at direct replies to the President's account, @realDonaldTrump."
   ]
  },
  {
   "cell_type": "code",
   "execution_count": null,
   "metadata": {},
   "outputs": [],
   "source": [
    "times_search_DJT2 = search_DJT2.resample('1H').count()['content'].index\n",
    "counts_search_DJT2 = search_DJT2.resample('1H').count()['content'].values\n",
    "\n",
    "\n",
    "comb = pd.DataFrame(counts_search_DJT2, index=times_search_DJT2).reset_index()\n",
    "DJT_tweets_1H = DJT_tweets.resample('1H').count()['content'].to_frame().reset_index()\n",
    "search_BO_1H = search_BO.resample('1H').count()['content'].to_frame().reset_index()\n",
    "search_HC_1H = search_HC.resample('1H').count()['content'].to_frame().reset_index()\n",
    "comb = comb.merge(DJT_tweets_1H, on=['t'], how='left')\n",
    "comb = comb.rename(columns={comb.columns[1]:'repliesTrump', comb.columns[2]:'tweetsByTrump'})\n",
    "comb['t'] = comb['t'].map(lambda t: t.strftime('%Y-%m-%d:%H:%M:%S'))\n",
    "\n",
    "\n",
    "fig6 = plt.figure(figsize=(9,7))\n",
    "ax6  = fig6.add_axes([0.15,0.15,0.75,0.75])\n",
    "\n",
    "ax6.plot(comb.t.values, comb.repliesTrump.values, label='Replies @realDonaldTrump', lw=2.0)\n",
    "ax6.xaxis.set_major_locator(ticker.MultipleLocator(5))\n",
    "xlabels = ax6.get_xticklabels() \n",
    "for label in xlabels: \n",
    "    label.set_rotation(45) \n",
    "    \n",
    "# Add Trumps tweets\n",
    "ax6b = ax6.twinx()\n",
    "ax6b.plot(comb.t.values, comb.tweetsByTrump.values, c='r', label = 'Tweets by Trump')\n",
    "ax6b.xaxis.set_major_locator(ticker.MultipleLocator(5))\n",
    "xlabels = ax6b.get_xticklabels() \n",
    "for label in xlabels: \n",
    "    label.set_rotation(45) \n",
    "    \n",
    "for tl in ax6b.get_yticklabels():\n",
    "    tl.set_color('r')\n",
    "ax6.legend()\n",
    "ax6.set_ylabel('Number of tweets by users')\n",
    "ax6b.set_ylabel('Number of tweets by Trump', color='r')\n",
    " \n",
    "fig6.savefig('User_Replies_Trump.pdf',bbox_inches='tight')\n",
    "plt.show()"
   ]
  },
  {
   "cell_type": "code",
   "execution_count": null,
   "metadata": {},
   "outputs": [],
   "source": []
  }
 ],
 "metadata": {
  "kernelspec": {
   "display_name": "Python 2",
   "language": "python",
   "name": "python2"
  },
  "language_info": {
   "codemirror_mode": {
    "name": "ipython",
    "version": 2
   },
   "file_extension": ".py",
   "mimetype": "text/x-python",
   "name": "python",
   "nbconvert_exporter": "python",
   "pygments_lexer": "ipython2",
   "version": "2.7.6"
  }
 },
 "nbformat": 4,
 "nbformat_minor": 2
}
